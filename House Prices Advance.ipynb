{
 "cells": [
  {
   "cell_type": "markdown",
   "metadata": {},
   "source": [
    "## Import packages"
   ]
  },
  {
   "cell_type": "code",
   "execution_count": 7,
   "metadata": {},
   "outputs": [],
   "source": [
    "import numpy as np\n",
    "import pandas as pd\n",
    "import seaborn as sns\n",
    "import matplotlib.pyplot as plt\n",
    "import scipy.stats as stats\n",
    "\n",
    "import warnings\n",
    "warnings.filterwarnings('ignore')\n",
    "\n",
    "from statlearning import plot_dist"
   ]
  },
  {
   "cell_type": "code",
   "execution_count": 8,
   "metadata": {},
   "outputs": [
    {
     "data": {
      "text/html": [
       "<div>\n",
       "<style scoped>\n",
       "    .dataframe tbody tr th:only-of-type {\n",
       "        vertical-align: middle;\n",
       "    }\n",
       "\n",
       "    .dataframe tbody tr th {\n",
       "        vertical-align: top;\n",
       "    }\n",
       "\n",
       "    .dataframe thead th {\n",
       "        text-align: right;\n",
       "    }\n",
       "</style>\n",
       "<table border=\"1\" class=\"dataframe\">\n",
       "  <thead>\n",
       "    <tr style=\"text-align: right;\">\n",
       "      <th></th>\n",
       "      <th>Id</th>\n",
       "      <th>MSSubClass</th>\n",
       "      <th>MSZoning</th>\n",
       "      <th>LotFrontage</th>\n",
       "      <th>LotArea</th>\n",
       "      <th>Street</th>\n",
       "      <th>Alley</th>\n",
       "      <th>LotShape</th>\n",
       "      <th>LandContour</th>\n",
       "      <th>Utilities</th>\n",
       "      <th>...</th>\n",
       "      <th>PoolArea</th>\n",
       "      <th>PoolQC</th>\n",
       "      <th>Fence</th>\n",
       "      <th>MiscFeature</th>\n",
       "      <th>MiscVal</th>\n",
       "      <th>MoSold</th>\n",
       "      <th>YrSold</th>\n",
       "      <th>SaleType</th>\n",
       "      <th>SaleCondition</th>\n",
       "      <th>SalePrice</th>\n",
       "    </tr>\n",
       "  </thead>\n",
       "  <tbody>\n",
       "    <tr>\n",
       "      <th>0</th>\n",
       "      <td>1</td>\n",
       "      <td>60</td>\n",
       "      <td>RL</td>\n",
       "      <td>65.0</td>\n",
       "      <td>8450</td>\n",
       "      <td>Pave</td>\n",
       "      <td>NaN</td>\n",
       "      <td>Reg</td>\n",
       "      <td>Lvl</td>\n",
       "      <td>AllPub</td>\n",
       "      <td>...</td>\n",
       "      <td>0</td>\n",
       "      <td>NaN</td>\n",
       "      <td>NaN</td>\n",
       "      <td>NaN</td>\n",
       "      <td>0</td>\n",
       "      <td>2</td>\n",
       "      <td>2008</td>\n",
       "      <td>WD</td>\n",
       "      <td>Normal</td>\n",
       "      <td>208500</td>\n",
       "    </tr>\n",
       "    <tr>\n",
       "      <th>1</th>\n",
       "      <td>2</td>\n",
       "      <td>20</td>\n",
       "      <td>RL</td>\n",
       "      <td>80.0</td>\n",
       "      <td>9600</td>\n",
       "      <td>Pave</td>\n",
       "      <td>NaN</td>\n",
       "      <td>Reg</td>\n",
       "      <td>Lvl</td>\n",
       "      <td>AllPub</td>\n",
       "      <td>...</td>\n",
       "      <td>0</td>\n",
       "      <td>NaN</td>\n",
       "      <td>NaN</td>\n",
       "      <td>NaN</td>\n",
       "      <td>0</td>\n",
       "      <td>5</td>\n",
       "      <td>2007</td>\n",
       "      <td>WD</td>\n",
       "      <td>Normal</td>\n",
       "      <td>181500</td>\n",
       "    </tr>\n",
       "    <tr>\n",
       "      <th>2</th>\n",
       "      <td>3</td>\n",
       "      <td>60</td>\n",
       "      <td>RL</td>\n",
       "      <td>68.0</td>\n",
       "      <td>11250</td>\n",
       "      <td>Pave</td>\n",
       "      <td>NaN</td>\n",
       "      <td>IR1</td>\n",
       "      <td>Lvl</td>\n",
       "      <td>AllPub</td>\n",
       "      <td>...</td>\n",
       "      <td>0</td>\n",
       "      <td>NaN</td>\n",
       "      <td>NaN</td>\n",
       "      <td>NaN</td>\n",
       "      <td>0</td>\n",
       "      <td>9</td>\n",
       "      <td>2008</td>\n",
       "      <td>WD</td>\n",
       "      <td>Normal</td>\n",
       "      <td>223500</td>\n",
       "    </tr>\n",
       "    <tr>\n",
       "      <th>3</th>\n",
       "      <td>4</td>\n",
       "      <td>70</td>\n",
       "      <td>RL</td>\n",
       "      <td>60.0</td>\n",
       "      <td>9550</td>\n",
       "      <td>Pave</td>\n",
       "      <td>NaN</td>\n",
       "      <td>IR1</td>\n",
       "      <td>Lvl</td>\n",
       "      <td>AllPub</td>\n",
       "      <td>...</td>\n",
       "      <td>0</td>\n",
       "      <td>NaN</td>\n",
       "      <td>NaN</td>\n",
       "      <td>NaN</td>\n",
       "      <td>0</td>\n",
       "      <td>2</td>\n",
       "      <td>2006</td>\n",
       "      <td>WD</td>\n",
       "      <td>Abnorml</td>\n",
       "      <td>140000</td>\n",
       "    </tr>\n",
       "    <tr>\n",
       "      <th>4</th>\n",
       "      <td>5</td>\n",
       "      <td>60</td>\n",
       "      <td>RL</td>\n",
       "      <td>84.0</td>\n",
       "      <td>14260</td>\n",
       "      <td>Pave</td>\n",
       "      <td>NaN</td>\n",
       "      <td>IR1</td>\n",
       "      <td>Lvl</td>\n",
       "      <td>AllPub</td>\n",
       "      <td>...</td>\n",
       "      <td>0</td>\n",
       "      <td>NaN</td>\n",
       "      <td>NaN</td>\n",
       "      <td>NaN</td>\n",
       "      <td>0</td>\n",
       "      <td>12</td>\n",
       "      <td>2008</td>\n",
       "      <td>WD</td>\n",
       "      <td>Normal</td>\n",
       "      <td>250000</td>\n",
       "    </tr>\n",
       "  </tbody>\n",
       "</table>\n",
       "<p>5 rows × 81 columns</p>\n",
       "</div>"
      ],
      "text/plain": [
       "   Id  MSSubClass MSZoning  LotFrontage  LotArea Street Alley LotShape  \\\n",
       "0   1          60       RL         65.0     8450   Pave   NaN      Reg   \n",
       "1   2          20       RL         80.0     9600   Pave   NaN      Reg   \n",
       "2   3          60       RL         68.0    11250   Pave   NaN      IR1   \n",
       "3   4          70       RL         60.0     9550   Pave   NaN      IR1   \n",
       "4   5          60       RL         84.0    14260   Pave   NaN      IR1   \n",
       "\n",
       "  LandContour Utilities  ... PoolArea PoolQC Fence MiscFeature MiscVal MoSold  \\\n",
       "0         Lvl    AllPub  ...        0    NaN   NaN         NaN       0      2   \n",
       "1         Lvl    AllPub  ...        0    NaN   NaN         NaN       0      5   \n",
       "2         Lvl    AllPub  ...        0    NaN   NaN         NaN       0      9   \n",
       "3         Lvl    AllPub  ...        0    NaN   NaN         NaN       0      2   \n",
       "4         Lvl    AllPub  ...        0    NaN   NaN         NaN       0     12   \n",
       "\n",
       "  YrSold  SaleType  SaleCondition  SalePrice  \n",
       "0   2008        WD         Normal     208500  \n",
       "1   2007        WD         Normal     181500  \n",
       "2   2008        WD         Normal     223500  \n",
       "3   2006        WD        Abnorml     140000  \n",
       "4   2008        WD         Normal     250000  \n",
       "\n",
       "[5 rows x 81 columns]"
      ]
     },
     "execution_count": 8,
     "metadata": {},
     "output_type": "execute_result"
    }
   ],
   "source": [
    "train=pd.read_csv('train.csv')\n",
    "test=pd.read_csv('test.csv')\n",
    "train_Id=train['Id']\n",
    "train.head()"
   ]
  },
  {
   "cell_type": "code",
   "execution_count": 9,
   "metadata": {},
   "outputs": [
    {
     "name": "stdout",
     "output_type": "stream",
     "text": [
      "training data dimensions:  (1460, 81)\n",
      "test data dimensions:  (1459, 80)\n"
     ]
    }
   ],
   "source": [
    "print('training data dimensions: ',np.shape(train))\n",
    "print('test data dimensions: ',np.shape(test))"
   ]
  },
  {
   "cell_type": "markdown",
   "metadata": {},
   "source": [
    "## Data cleaning"
   ]
  },
  {
   "cell_type": "code",
   "execution_count": 10,
   "metadata": {},
   "outputs": [
    {
     "data": {
      "text/plain": [
       "PoolQC           1453\n",
       "MiscFeature      1406\n",
       "Alley            1369\n",
       "Fence            1179\n",
       "FireplaceQu       690\n",
       "                 ... \n",
       "CentralAir          0\n",
       "SaleCondition       0\n",
       "Heating             0\n",
       "TotalBsmtSF         0\n",
       "Id                  0\n",
       "Length: 81, dtype: int64"
      ]
     },
     "execution_count": 10,
     "metadata": {},
     "output_type": "execute_result"
    }
   ],
   "source": [
    "train.isna().sum().sort_values(ascending = False)"
   ]
  },
  {
   "cell_type": "code",
   "execution_count": 11,
   "metadata": {},
   "outputs": [],
   "source": [
    "#Drop MACR variables\n",
    "train = train.drop(['PoolQC','MiscFeature','Alley','Fence'], axis = 1)"
   ]
  },
  {
   "cell_type": "code",
   "execution_count": 12,
   "metadata": {},
   "outputs": [],
   "source": [
    "#Prevent the original data from being lost\n",
    "train_filling = train.copy()"
   ]
  },
  {
   "cell_type": "code",
   "execution_count": 13,
   "metadata": {},
   "outputs": [],
   "source": [
    "#deal with missing value by filling no response\n",
    "\n",
    "filling_no_response=['FireplaceQu','GarageType','GarageCond','BsmtFinType1','BsmtQual',\n",
    "               'GarageFinish','GarageQual','BsmtFinType2','BsmtCond',\n",
    "               'BsmtExposure']\n",
    "train_filling[filling_no_response]=train_filling[filling_no_response].fillna('no response')"
   ]
  },
  {
   "cell_type": "code",
   "execution_count": 14,
   "metadata": {},
   "outputs": [],
   "source": [
    "#deal with missing value by filling the average column value\n",
    "train_filling['LotFrontage'].fillna(train_filling['LotFrontage'].mean(), inplace = True)\n",
    "train_filling['MasVnrArea'].fillna(train_filling['MasVnrArea'].mean(), inplace = True)"
   ]
  },
  {
   "cell_type": "code",
   "execution_count": 15,
   "metadata": {},
   "outputs": [
    {
     "data": {
      "text/plain": [
       "GarageYrBlt     81\n",
       "MasVnrType       8\n",
       "Electrical       1\n",
       "SalePrice        0\n",
       "ExterQual        0\n",
       "                ..\n",
       "KitchenAbvGr     0\n",
       "KitchenQual      0\n",
       "TotRmsAbvGrd     0\n",
       "Functional       0\n",
       "Id               0\n",
       "Length: 77, dtype: int64"
      ]
     },
     "execution_count": 15,
     "metadata": {},
     "output_type": "execute_result"
    }
   ],
   "source": [
    "train_filling.isna().sum().sort_values(ascending = False)"
   ]
  },
  {
   "cell_type": "code",
   "execution_count": 16,
   "metadata": {},
   "outputs": [
    {
     "data": {
      "text/plain": [
       "None       864\n",
       "BrkFace    445\n",
       "Stone      128\n",
       "BrkCmn      15\n",
       "Name: MasVnrType, dtype: int64"
      ]
     },
     "execution_count": 16,
     "metadata": {},
     "output_type": "execute_result"
    }
   ],
   "source": [
    "train_filling['MasVnrType'].value_counts()"
   ]
  },
  {
   "cell_type": "code",
   "execution_count": 17,
   "metadata": {},
   "outputs": [
    {
     "data": {
      "text/plain": [
       "SBrkr    1334\n",
       "FuseA      94\n",
       "FuseF      27\n",
       "FuseP       3\n",
       "Mix         1\n",
       "Name: Electrical, dtype: int64"
      ]
     },
     "execution_count": 17,
     "metadata": {},
     "output_type": "execute_result"
    }
   ],
   "source": [
    "train_filling['Electrical'].value_counts()"
   ]
  },
  {
   "cell_type": "code",
   "execution_count": 18,
   "metadata": {},
   "outputs": [
    {
     "data": {
      "text/plain": [
       "0    None\n",
       "dtype: object"
      ]
     },
     "execution_count": 18,
     "metadata": {},
     "output_type": "execute_result"
    }
   ],
   "source": [
    "train_filling['MasVnrType'].mode()"
   ]
  },
  {
   "cell_type": "code",
   "execution_count": 19,
   "metadata": {},
   "outputs": [
    {
     "data": {
      "text/plain": [
       "0    SBrkr\n",
       "dtype: object"
      ]
     },
     "execution_count": 19,
     "metadata": {},
     "output_type": "execute_result"
    }
   ],
   "source": [
    "train_filling['Electrical'].mode()"
   ]
  },
  {
   "cell_type": "code",
   "execution_count": 20,
   "metadata": {},
   "outputs": [],
   "source": [
    "#deal with missing value by filling the most frequently value\n",
    "train_filling['MasVnrType'].fillna('None', inplace = True)\n",
    "train_filling['Electrical'].fillna('SErKr', inplace = True)\n",
    "train_filling['GarageYrBlt'].fillna('2005.0', inplace = True)"
   ]
  },
  {
   "cell_type": "code",
   "execution_count": 21,
   "metadata": {},
   "outputs": [
    {
     "data": {
      "text/plain": [
       "SalePrice       0\n",
       "ExterCond       0\n",
       "RoofStyle       0\n",
       "RoofMatl        0\n",
       "Exterior1st     0\n",
       "               ..\n",
       "KitchenAbvGr    0\n",
       "KitchenQual     0\n",
       "TotRmsAbvGrd    0\n",
       "Functional      0\n",
       "Id              0\n",
       "Length: 77, dtype: int64"
      ]
     },
     "execution_count": 21,
     "metadata": {},
     "output_type": "execute_result"
    }
   ],
   "source": [
    "train_filling.isna().sum().sort_values(ascending = False)"
   ]
  },
  {
   "cell_type": "markdown",
   "metadata": {},
   "source": [
    "## Clean Test Dataset"
   ]
  },
  {
   "cell_type": "code",
   "execution_count": 22,
   "metadata": {},
   "outputs": [],
   "source": [
    "#Drop MACR variables\n",
    "test = test.drop(['PoolQC','MiscFeature','Alley','Fence','GarageYrBlt'], axis = 1)"
   ]
  },
  {
   "cell_type": "code",
   "execution_count": 23,
   "metadata": {},
   "outputs": [
    {
     "data": {
      "text/html": [
       "<div>\n",
       "<style scoped>\n",
       "    .dataframe tbody tr th:only-of-type {\n",
       "        vertical-align: middle;\n",
       "    }\n",
       "\n",
       "    .dataframe tbody tr th {\n",
       "        vertical-align: top;\n",
       "    }\n",
       "\n",
       "    .dataframe thead th {\n",
       "        text-align: right;\n",
       "    }\n",
       "</style>\n",
       "<table border=\"1\" class=\"dataframe\">\n",
       "  <thead>\n",
       "    <tr style=\"text-align: right;\">\n",
       "      <th></th>\n",
       "      <th>Id</th>\n",
       "      <th>MSSubClass</th>\n",
       "      <th>MSZoning</th>\n",
       "      <th>LotFrontage</th>\n",
       "      <th>LotArea</th>\n",
       "      <th>Street</th>\n",
       "      <th>LotShape</th>\n",
       "      <th>LandContour</th>\n",
       "      <th>Utilities</th>\n",
       "      <th>LotConfig</th>\n",
       "      <th>...</th>\n",
       "      <th>OpenPorchSF</th>\n",
       "      <th>EnclosedPorch</th>\n",
       "      <th>3SsnPorch</th>\n",
       "      <th>ScreenPorch</th>\n",
       "      <th>PoolArea</th>\n",
       "      <th>MiscVal</th>\n",
       "      <th>MoSold</th>\n",
       "      <th>YrSold</th>\n",
       "      <th>SaleType</th>\n",
       "      <th>SaleCondition</th>\n",
       "    </tr>\n",
       "  </thead>\n",
       "  <tbody>\n",
       "    <tr>\n",
       "      <th>0</th>\n",
       "      <td>1461</td>\n",
       "      <td>20</td>\n",
       "      <td>RH</td>\n",
       "      <td>80.0</td>\n",
       "      <td>11622</td>\n",
       "      <td>Pave</td>\n",
       "      <td>Reg</td>\n",
       "      <td>Lvl</td>\n",
       "      <td>AllPub</td>\n",
       "      <td>Inside</td>\n",
       "      <td>...</td>\n",
       "      <td>0</td>\n",
       "      <td>0</td>\n",
       "      <td>0</td>\n",
       "      <td>120</td>\n",
       "      <td>0</td>\n",
       "      <td>0</td>\n",
       "      <td>6</td>\n",
       "      <td>2010</td>\n",
       "      <td>WD</td>\n",
       "      <td>Normal</td>\n",
       "    </tr>\n",
       "    <tr>\n",
       "      <th>1</th>\n",
       "      <td>1462</td>\n",
       "      <td>20</td>\n",
       "      <td>RL</td>\n",
       "      <td>81.0</td>\n",
       "      <td>14267</td>\n",
       "      <td>Pave</td>\n",
       "      <td>IR1</td>\n",
       "      <td>Lvl</td>\n",
       "      <td>AllPub</td>\n",
       "      <td>Corner</td>\n",
       "      <td>...</td>\n",
       "      <td>36</td>\n",
       "      <td>0</td>\n",
       "      <td>0</td>\n",
       "      <td>0</td>\n",
       "      <td>0</td>\n",
       "      <td>12500</td>\n",
       "      <td>6</td>\n",
       "      <td>2010</td>\n",
       "      <td>WD</td>\n",
       "      <td>Normal</td>\n",
       "    </tr>\n",
       "    <tr>\n",
       "      <th>2</th>\n",
       "      <td>1463</td>\n",
       "      <td>60</td>\n",
       "      <td>RL</td>\n",
       "      <td>74.0</td>\n",
       "      <td>13830</td>\n",
       "      <td>Pave</td>\n",
       "      <td>IR1</td>\n",
       "      <td>Lvl</td>\n",
       "      <td>AllPub</td>\n",
       "      <td>Inside</td>\n",
       "      <td>...</td>\n",
       "      <td>34</td>\n",
       "      <td>0</td>\n",
       "      <td>0</td>\n",
       "      <td>0</td>\n",
       "      <td>0</td>\n",
       "      <td>0</td>\n",
       "      <td>3</td>\n",
       "      <td>2010</td>\n",
       "      <td>WD</td>\n",
       "      <td>Normal</td>\n",
       "    </tr>\n",
       "    <tr>\n",
       "      <th>3</th>\n",
       "      <td>1464</td>\n",
       "      <td>60</td>\n",
       "      <td>RL</td>\n",
       "      <td>78.0</td>\n",
       "      <td>9978</td>\n",
       "      <td>Pave</td>\n",
       "      <td>IR1</td>\n",
       "      <td>Lvl</td>\n",
       "      <td>AllPub</td>\n",
       "      <td>Inside</td>\n",
       "      <td>...</td>\n",
       "      <td>36</td>\n",
       "      <td>0</td>\n",
       "      <td>0</td>\n",
       "      <td>0</td>\n",
       "      <td>0</td>\n",
       "      <td>0</td>\n",
       "      <td>6</td>\n",
       "      <td>2010</td>\n",
       "      <td>WD</td>\n",
       "      <td>Normal</td>\n",
       "    </tr>\n",
       "    <tr>\n",
       "      <th>4</th>\n",
       "      <td>1465</td>\n",
       "      <td>120</td>\n",
       "      <td>RL</td>\n",
       "      <td>43.0</td>\n",
       "      <td>5005</td>\n",
       "      <td>Pave</td>\n",
       "      <td>IR1</td>\n",
       "      <td>HLS</td>\n",
       "      <td>AllPub</td>\n",
       "      <td>Inside</td>\n",
       "      <td>...</td>\n",
       "      <td>82</td>\n",
       "      <td>0</td>\n",
       "      <td>0</td>\n",
       "      <td>144</td>\n",
       "      <td>0</td>\n",
       "      <td>0</td>\n",
       "      <td>1</td>\n",
       "      <td>2010</td>\n",
       "      <td>WD</td>\n",
       "      <td>Normal</td>\n",
       "    </tr>\n",
       "    <tr>\n",
       "      <th>...</th>\n",
       "      <td>...</td>\n",
       "      <td>...</td>\n",
       "      <td>...</td>\n",
       "      <td>...</td>\n",
       "      <td>...</td>\n",
       "      <td>...</td>\n",
       "      <td>...</td>\n",
       "      <td>...</td>\n",
       "      <td>...</td>\n",
       "      <td>...</td>\n",
       "      <td>...</td>\n",
       "      <td>...</td>\n",
       "      <td>...</td>\n",
       "      <td>...</td>\n",
       "      <td>...</td>\n",
       "      <td>...</td>\n",
       "      <td>...</td>\n",
       "      <td>...</td>\n",
       "      <td>...</td>\n",
       "      <td>...</td>\n",
       "      <td>...</td>\n",
       "    </tr>\n",
       "    <tr>\n",
       "      <th>1454</th>\n",
       "      <td>2915</td>\n",
       "      <td>160</td>\n",
       "      <td>RM</td>\n",
       "      <td>21.0</td>\n",
       "      <td>1936</td>\n",
       "      <td>Pave</td>\n",
       "      <td>Reg</td>\n",
       "      <td>Lvl</td>\n",
       "      <td>AllPub</td>\n",
       "      <td>Inside</td>\n",
       "      <td>...</td>\n",
       "      <td>0</td>\n",
       "      <td>0</td>\n",
       "      <td>0</td>\n",
       "      <td>0</td>\n",
       "      <td>0</td>\n",
       "      <td>0</td>\n",
       "      <td>6</td>\n",
       "      <td>2006</td>\n",
       "      <td>WD</td>\n",
       "      <td>Normal</td>\n",
       "    </tr>\n",
       "    <tr>\n",
       "      <th>1455</th>\n",
       "      <td>2916</td>\n",
       "      <td>160</td>\n",
       "      <td>RM</td>\n",
       "      <td>21.0</td>\n",
       "      <td>1894</td>\n",
       "      <td>Pave</td>\n",
       "      <td>Reg</td>\n",
       "      <td>Lvl</td>\n",
       "      <td>AllPub</td>\n",
       "      <td>Inside</td>\n",
       "      <td>...</td>\n",
       "      <td>24</td>\n",
       "      <td>0</td>\n",
       "      <td>0</td>\n",
       "      <td>0</td>\n",
       "      <td>0</td>\n",
       "      <td>0</td>\n",
       "      <td>4</td>\n",
       "      <td>2006</td>\n",
       "      <td>WD</td>\n",
       "      <td>Abnorml</td>\n",
       "    </tr>\n",
       "    <tr>\n",
       "      <th>1456</th>\n",
       "      <td>2917</td>\n",
       "      <td>20</td>\n",
       "      <td>RL</td>\n",
       "      <td>160.0</td>\n",
       "      <td>20000</td>\n",
       "      <td>Pave</td>\n",
       "      <td>Reg</td>\n",
       "      <td>Lvl</td>\n",
       "      <td>AllPub</td>\n",
       "      <td>Inside</td>\n",
       "      <td>...</td>\n",
       "      <td>0</td>\n",
       "      <td>0</td>\n",
       "      <td>0</td>\n",
       "      <td>0</td>\n",
       "      <td>0</td>\n",
       "      <td>0</td>\n",
       "      <td>9</td>\n",
       "      <td>2006</td>\n",
       "      <td>WD</td>\n",
       "      <td>Abnorml</td>\n",
       "    </tr>\n",
       "    <tr>\n",
       "      <th>1457</th>\n",
       "      <td>2918</td>\n",
       "      <td>85</td>\n",
       "      <td>RL</td>\n",
       "      <td>62.0</td>\n",
       "      <td>10441</td>\n",
       "      <td>Pave</td>\n",
       "      <td>Reg</td>\n",
       "      <td>Lvl</td>\n",
       "      <td>AllPub</td>\n",
       "      <td>Inside</td>\n",
       "      <td>...</td>\n",
       "      <td>32</td>\n",
       "      <td>0</td>\n",
       "      <td>0</td>\n",
       "      <td>0</td>\n",
       "      <td>0</td>\n",
       "      <td>700</td>\n",
       "      <td>7</td>\n",
       "      <td>2006</td>\n",
       "      <td>WD</td>\n",
       "      <td>Normal</td>\n",
       "    </tr>\n",
       "    <tr>\n",
       "      <th>1458</th>\n",
       "      <td>2919</td>\n",
       "      <td>60</td>\n",
       "      <td>RL</td>\n",
       "      <td>74.0</td>\n",
       "      <td>9627</td>\n",
       "      <td>Pave</td>\n",
       "      <td>Reg</td>\n",
       "      <td>Lvl</td>\n",
       "      <td>AllPub</td>\n",
       "      <td>Inside</td>\n",
       "      <td>...</td>\n",
       "      <td>48</td>\n",
       "      <td>0</td>\n",
       "      <td>0</td>\n",
       "      <td>0</td>\n",
       "      <td>0</td>\n",
       "      <td>0</td>\n",
       "      <td>11</td>\n",
       "      <td>2006</td>\n",
       "      <td>WD</td>\n",
       "      <td>Normal</td>\n",
       "    </tr>\n",
       "  </tbody>\n",
       "</table>\n",
       "<p>1459 rows × 75 columns</p>\n",
       "</div>"
      ],
      "text/plain": [
       "        Id  MSSubClass MSZoning  LotFrontage  LotArea Street LotShape  \\\n",
       "0     1461          20       RH         80.0    11622   Pave      Reg   \n",
       "1     1462          20       RL         81.0    14267   Pave      IR1   \n",
       "2     1463          60       RL         74.0    13830   Pave      IR1   \n",
       "3     1464          60       RL         78.0     9978   Pave      IR1   \n",
       "4     1465         120       RL         43.0     5005   Pave      IR1   \n",
       "...    ...         ...      ...          ...      ...    ...      ...   \n",
       "1454  2915         160       RM         21.0     1936   Pave      Reg   \n",
       "1455  2916         160       RM         21.0     1894   Pave      Reg   \n",
       "1456  2917          20       RL        160.0    20000   Pave      Reg   \n",
       "1457  2918          85       RL         62.0    10441   Pave      Reg   \n",
       "1458  2919          60       RL         74.0     9627   Pave      Reg   \n",
       "\n",
       "     LandContour Utilities LotConfig  ... OpenPorchSF EnclosedPorch 3SsnPorch  \\\n",
       "0            Lvl    AllPub    Inside  ...           0             0         0   \n",
       "1            Lvl    AllPub    Corner  ...          36             0         0   \n",
       "2            Lvl    AllPub    Inside  ...          34             0         0   \n",
       "3            Lvl    AllPub    Inside  ...          36             0         0   \n",
       "4            HLS    AllPub    Inside  ...          82             0         0   \n",
       "...          ...       ...       ...  ...         ...           ...       ...   \n",
       "1454         Lvl    AllPub    Inside  ...           0             0         0   \n",
       "1455         Lvl    AllPub    Inside  ...          24             0         0   \n",
       "1456         Lvl    AllPub    Inside  ...           0             0         0   \n",
       "1457         Lvl    AllPub    Inside  ...          32             0         0   \n",
       "1458         Lvl    AllPub    Inside  ...          48             0         0   \n",
       "\n",
       "     ScreenPorch PoolArea MiscVal  MoSold  YrSold  SaleType  SaleCondition  \n",
       "0            120        0       0       6    2010        WD         Normal  \n",
       "1              0        0   12500       6    2010        WD         Normal  \n",
       "2              0        0       0       3    2010        WD         Normal  \n",
       "3              0        0       0       6    2010        WD         Normal  \n",
       "4            144        0       0       1    2010        WD         Normal  \n",
       "...          ...      ...     ...     ...     ...       ...            ...  \n",
       "1454           0        0       0       6    2006        WD         Normal  \n",
       "1455           0        0       0       4    2006        WD        Abnorml  \n",
       "1456           0        0       0       9    2006        WD        Abnorml  \n",
       "1457           0        0     700       7    2006        WD         Normal  \n",
       "1458           0        0       0      11    2006        WD         Normal  \n",
       "\n",
       "[1459 rows x 75 columns]"
      ]
     },
     "execution_count": 23,
     "metadata": {},
     "output_type": "execute_result"
    }
   ],
   "source": [
    "#Prevent the original data from being lost\n",
    "test_filling = test.copy()\n",
    "test_filling"
   ]
  },
  {
   "cell_type": "code",
   "execution_count": 24,
   "metadata": {},
   "outputs": [],
   "source": [
    "#deal with missing value by filling no response\n",
    "\n",
    "filling_no_response=['FireplaceQu','GarageType','GarageCond','BsmtFinType1','BsmtQual','Utilities',\n",
    "               'GarageFinish','GarageQual','BsmtFinType2','BsmtCond','Functional','Exterior1st',\n",
    "               'BsmtExposure','MasVnrType','Electrical','MSZoning','Exterior2nd']\n",
    "test_filling[filling_no_response]=test_filling[filling_no_response].fillna('no response')"
   ]
  },
  {
   "cell_type": "code",
   "execution_count": 25,
   "metadata": {},
   "outputs": [],
   "source": [
    "#deal with missing value by filling the average column value\n",
    "\n",
    "filling_mean=['LotFrontage','MasVnrArea','BsmtUnfSF','TotalBsmtSF','BsmtFinSF1',\n",
    "               'GarageArea','BsmtFinSF2']\n",
    "test_filling[filling_mean]=test_filling[filling_mean].fillna(test_filling[filling_mean].mean())"
   ]
  },
  {
   "cell_type": "code",
   "execution_count": 26,
   "metadata": {},
   "outputs": [
    {
     "data": {
      "text/plain": [
       "BsmtHalfBath    2\n",
       "BsmtFullBath    2\n",
       "KitchenQual     1\n",
       "SaleType        1\n",
       "GarageCars      1\n",
       "               ..\n",
       "Electrical      0\n",
       "CentralAir      0\n",
       "HeatingQC       0\n",
       "Heating         0\n",
       "Id              0\n",
       "Length: 75, dtype: int64"
      ]
     },
     "execution_count": 26,
     "metadata": {},
     "output_type": "execute_result"
    }
   ],
   "source": [
    "test_filling.isna().sum().sort_values(ascending=False)"
   ]
  },
  {
   "cell_type": "code",
   "execution_count": 27,
   "metadata": {},
   "outputs": [
    {
     "data": {
      "text/plain": [
       "0.0    849\n",
       "1.0    584\n",
       "2.0     23\n",
       "3.0      1\n",
       "Name: BsmtFullBath, dtype: int64"
      ]
     },
     "execution_count": 27,
     "metadata": {},
     "output_type": "execute_result"
    }
   ],
   "source": [
    "test_filling['BsmtFullBath'].value_counts()"
   ]
  },
  {
   "cell_type": "code",
   "execution_count": 28,
   "metadata": {},
   "outputs": [
    {
     "data": {
      "text/plain": [
       "0.0    1364\n",
       "1.0      91\n",
       "2.0       2\n",
       "Name: BsmtHalfBath, dtype: int64"
      ]
     },
     "execution_count": 28,
     "metadata": {},
     "output_type": "execute_result"
    }
   ],
   "source": [
    "test_filling['BsmtHalfBath'].value_counts()"
   ]
  },
  {
   "cell_type": "code",
   "execution_count": 29,
   "metadata": {},
   "outputs": [
    {
     "data": {
      "text/plain": [
       "WD       1258\n",
       "New       117\n",
       "COD        44\n",
       "ConLD      17\n",
       "CWD         8\n",
       "Oth         4\n",
       "ConLI       4\n",
       "ConLw       3\n",
       "Con         3\n",
       "Name: SaleType, dtype: int64"
      ]
     },
     "execution_count": 29,
     "metadata": {},
     "output_type": "execute_result"
    }
   ],
   "source": [
    "test_filling['SaleType'].value_counts()"
   ]
  },
  {
   "cell_type": "code",
   "execution_count": 30,
   "metadata": {},
   "outputs": [
    {
     "data": {
      "text/plain": [
       "TA    757\n",
       "Gd    565\n",
       "Ex    105\n",
       "Fa     31\n",
       "Name: KitchenQual, dtype: int64"
      ]
     },
     "execution_count": 30,
     "metadata": {},
     "output_type": "execute_result"
    }
   ],
   "source": [
    "test_filling['KitchenQual'].value_counts()"
   ]
  },
  {
   "cell_type": "code",
   "execution_count": 31,
   "metadata": {},
   "outputs": [
    {
     "data": {
      "text/plain": [
       "0    0.0\n",
       "dtype: float64"
      ]
     },
     "execution_count": 31,
     "metadata": {},
     "output_type": "execute_result"
    }
   ],
   "source": [
    "test_filling['BsmtFullBath'].mode()"
   ]
  },
  {
   "cell_type": "code",
   "execution_count": 32,
   "metadata": {},
   "outputs": [
    {
     "data": {
      "text/plain": [
       "0    0.0\n",
       "dtype: float64"
      ]
     },
     "execution_count": 32,
     "metadata": {},
     "output_type": "execute_result"
    }
   ],
   "source": [
    "test_filling['BsmtHalfBath'].mode()"
   ]
  },
  {
   "cell_type": "code",
   "execution_count": 33,
   "metadata": {},
   "outputs": [
    {
     "data": {
      "text/plain": [
       "0    WD\n",
       "dtype: object"
      ]
     },
     "execution_count": 33,
     "metadata": {},
     "output_type": "execute_result"
    }
   ],
   "source": [
    "test_filling['SaleType'].mode()"
   ]
  },
  {
   "cell_type": "code",
   "execution_count": 34,
   "metadata": {},
   "outputs": [
    {
     "data": {
      "text/plain": [
       "0    TA\n",
       "dtype: object"
      ]
     },
     "execution_count": 34,
     "metadata": {},
     "output_type": "execute_result"
    }
   ],
   "source": [
    "test_filling['KitchenQual'].mode()"
   ]
  },
  {
   "cell_type": "code",
   "execution_count": 35,
   "metadata": {},
   "outputs": [
    {
     "data": {
      "text/plain": [
       "0    2.0\n",
       "dtype: float64"
      ]
     },
     "execution_count": 35,
     "metadata": {},
     "output_type": "execute_result"
    }
   ],
   "source": [
    "test_filling['GarageCars'].mode()"
   ]
  },
  {
   "cell_type": "code",
   "execution_count": 36,
   "metadata": {},
   "outputs": [],
   "source": [
    "#deal with missing value by filling the most frequently value\n",
    "test_filling['BsmtFullBath'].fillna('0.0', inplace = True)\n",
    "test_filling['BsmtHalfBath'].fillna('0.0', inplace = True)\n",
    "test_filling['SaleType'].fillna('WD', inplace = True)\n",
    "test_filling['KitchenQual'].fillna('TA', inplace = True)\n",
    "test_filling['GarageCars'].fillna('2', inplace = True)"
   ]
  },
  {
   "cell_type": "code",
   "execution_count": 37,
   "metadata": {},
   "outputs": [
    {
     "data": {
      "text/plain": [
       "SaleCondition    0\n",
       "YearBuilt        0\n",
       "RoofStyle        0\n",
       "RoofMatl         0\n",
       "Exterior1st      0\n",
       "                ..\n",
       "BedroomAbvGr     0\n",
       "KitchenAbvGr     0\n",
       "KitchenQual      0\n",
       "TotRmsAbvGrd     0\n",
       "Id               0\n",
       "Length: 75, dtype: int64"
      ]
     },
     "execution_count": 37,
     "metadata": {},
     "output_type": "execute_result"
    }
   ],
   "source": [
    "test_filling.isna().sum().sort_values(ascending = False)"
   ]
  },
  {
   "cell_type": "markdown",
   "metadata": {},
   "source": [
    "## Encoding"
   ]
  },
  {
   "cell_type": "code",
   "execution_count": 38,
   "metadata": {},
   "outputs": [
    {
     "data": {
      "image/png": "[encoded data removed]",
      "text/plain": [
       "<Figure size 648x432 with 1 Axes>"
      ]
     },
     "metadata": {
      "needs_background": "light"
     },
     "output_type": "display_data"
    }
   ],
   "source": [
    "#log-transformation on y\n",
    "log_y_train=np.log(train_filling['SalePrice'])\n",
    "plot_dist(log_y_train)\n",
    "plt.title('Distribution of Price After log-transformation')\n",
    "plt.show()"
   ]
  },
  {
   "cell_type": "code",
   "execution_count": 39,
   "metadata": {},
   "outputs": [
    {
     "data": {
      "image/png": "[encoded data removed]",
      "text/plain": [
       "<Figure size 432x288 with 1 Axes>"
      ]
     },
     "metadata": {
      "needs_background": "light"
     },
     "output_type": "display_data"
    }
   ],
   "source": [
    "qq_plot = stats.probplot(train_filling['SalePrice'], plot=plt)"
   ]
  },
  {
   "cell_type": "code",
   "execution_count": 40,
   "metadata": {},
   "outputs": [],
   "source": [
    "train_clean = train_filling.copy() \n",
    "test_clean = test_filling.copy()"
   ]
  },
  {
   "cell_type": "code",
   "execution_count": 41,
   "metadata": {},
   "outputs": [
    {
     "data": {
      "text/plain": [
       "Id              int64\n",
       "BsmtUnfSF       int64\n",
       "TotalBsmtSF     int64\n",
       "1stFlrSF        int64\n",
       "2ndFlrSF        int64\n",
       "                ...  \n",
       "HouseStyle     object\n",
       "BldgType       object\n",
       "Foundation     object\n",
       "CentralAir     object\n",
       "Heating        object\n",
       "Length: 77, dtype: object"
      ]
     },
     "execution_count": 41,
     "metadata": {},
     "output_type": "execute_result"
    }
   ],
   "source": [
    "train_clean.dtypes.sort_values()"
   ]
  },
  {
   "cell_type": "code",
   "execution_count": 42,
   "metadata": {},
   "outputs": [],
   "source": [
    "#Divide all data into numerical data and categorical data\n",
    "categorical_variables = train_clean.columns[train_clean.dtypes=='object']\n",
    "nemerical_variables = train_clean.columns[train_clean.dtypes!='object']"
   ]
  },
  {
   "cell_type": "code",
   "execution_count": 43,
   "metadata": {},
   "outputs": [
    {
     "data": {
      "text/plain": [
       "MSZoning          5\n",
       "Street            2\n",
       "LotShape          4\n",
       "LandContour       4\n",
       "Utilities         2\n",
       "LotConfig         5\n",
       "LandSlope         3\n",
       "Neighborhood     25\n",
       "Condition1        9\n",
       "Condition2        8\n",
       "BldgType          5\n",
       "HouseStyle        8\n",
       "RoofStyle         6\n",
       "RoofMatl          8\n",
       "Exterior1st      15\n",
       "Exterior2nd      16\n",
       "MasVnrType        4\n",
       "ExterQual         4\n",
       "ExterCond         5\n",
       "Foundation        6\n",
       "BsmtQual          5\n",
       "BsmtCond          5\n",
       "BsmtExposure      5\n",
       "BsmtFinType1      7\n",
       "BsmtFinType2      7\n",
       "Heating           6\n",
       "HeatingQC         5\n",
       "CentralAir        2\n",
       "Electrical        6\n",
       "KitchenQual       4\n",
       "Functional        7\n",
       "FireplaceQu       6\n",
       "GarageType        7\n",
       "GarageYrBlt      98\n",
       "GarageFinish      4\n",
       "GarageQual        6\n",
       "GarageCond        6\n",
       "PavedDrive        3\n",
       "SaleType          9\n",
       "SaleCondition     6\n",
       "dtype: int64"
      ]
     },
     "execution_count": 43,
     "metadata": {},
     "output_type": "execute_result"
    }
   ],
   "source": [
    "#check how many types in each categorical feature\n",
    "train_clean[categorical_variables].nunique()"
   ]
  },
  {
   "cell_type": "code",
   "execution_count": 44,
   "metadata": {},
   "outputs": [
    {
     "data": {
      "text/plain": [
       "<AxesSubplot:>"
      ]
     },
     "execution_count": 44,
     "metadata": {},
     "output_type": "execute_result"
    },
    {
     "data": {
      "image/png": "[encoded data removed]",
      "text/plain": [
       "<Figure size 648x576 with 2 Axes>"
      ]
     },
     "metadata": {
      "needs_background": "light"
     },
     "output_type": "display_data"
    }
   ],
   "source": [
    "# Correlation Matrix\n",
    "corr_matrix = train_clean.corr()\n",
    "\n",
    "plt.figure(figsize = (9,8)) # figure size\n",
    "sns.heatmap(corr_matrix)"
   ]
  },
  {
   "cell_type": "code",
   "execution_count": 45,
   "metadata": {},
   "outputs": [
    {
     "data": {
      "text/plain": [
       "SalePrice       1.000000\n",
       "OverallQual     0.790982\n",
       "GrLivArea       0.708624\n",
       "GarageCars      0.640409\n",
       "GarageArea      0.623431\n",
       "TotalBsmtSF     0.613581\n",
       "1stFlrSF        0.605852\n",
       "FullBath        0.560664\n",
       "TotRmsAbvGrd    0.533723\n",
       "YearBuilt       0.522897\n",
       "YearRemodAdd    0.507101\n",
       "MasVnrArea      0.475241\n",
       "Fireplaces      0.466929\n",
       "BsmtFinSF1      0.386420\n",
       "LotFrontage     0.334901\n",
       "WoodDeckSF      0.324413\n",
       "2ndFlrSF        0.319334\n",
       "OpenPorchSF     0.315856\n",
       "HalfBath        0.284108\n",
       "LotArea         0.263843\n",
       "BsmtFullBath    0.227122\n",
       "Name: SalePrice, dtype: float64"
      ]
     },
     "execution_count": 45,
     "metadata": {},
     "output_type": "execute_result"
    }
   ],
   "source": [
    "n_var = 21\n",
    "corr_matrix[\"SalePrice\"].sort_values(ascending=False).head(n_var)"
   ]
  },
  {
   "cell_type": "code",
   "execution_count": 46,
   "metadata": {},
   "outputs": [
    {
     "data": {
      "text/html": [
       "<div>\n",
       "<style scoped>\n",
       "    .dataframe tbody tr th:only-of-type {\n",
       "        vertical-align: middle;\n",
       "    }\n",
       "\n",
       "    .dataframe tbody tr th {\n",
       "        vertical-align: top;\n",
       "    }\n",
       "\n",
       "    .dataframe thead th {\n",
       "        text-align: right;\n",
       "    }\n",
       "</style>\n",
       "<table border=\"1\" class=\"dataframe\">\n",
       "  <thead>\n",
       "    <tr style=\"text-align: right;\">\n",
       "      <th></th>\n",
       "      <th>OverallQual</th>\n",
       "      <th>GrLivArea</th>\n",
       "      <th>GarageCars</th>\n",
       "      <th>GarageArea</th>\n",
       "      <th>TotalBsmtSF</th>\n",
       "      <th>1stFlrSF</th>\n",
       "      <th>FullBath</th>\n",
       "      <th>TotRmsAbvGrd</th>\n",
       "      <th>YearBuilt</th>\n",
       "      <th>YearRemodAdd</th>\n",
       "      <th>MasVnrArea</th>\n",
       "      <th>Fireplaces</th>\n",
       "      <th>BsmtFinSF1</th>\n",
       "      <th>LotFrontage</th>\n",
       "      <th>WoodDeckSF</th>\n",
       "      <th>2ndFlrSF</th>\n",
       "      <th>OpenPorchSF</th>\n",
       "      <th>HalfBath</th>\n",
       "      <th>LotArea</th>\n",
       "      <th>BsmtFullBath</th>\n",
       "    </tr>\n",
       "  </thead>\n",
       "  <tbody>\n",
       "    <tr>\n",
       "      <th>0</th>\n",
       "      <td>7</td>\n",
       "      <td>1710</td>\n",
       "      <td>2</td>\n",
       "      <td>548</td>\n",
       "      <td>856</td>\n",
       "      <td>856</td>\n",
       "      <td>2</td>\n",
       "      <td>8</td>\n",
       "      <td>2003</td>\n",
       "      <td>2003</td>\n",
       "      <td>196.0</td>\n",
       "      <td>0</td>\n",
       "      <td>706</td>\n",
       "      <td>65.0</td>\n",
       "      <td>0</td>\n",
       "      <td>854</td>\n",
       "      <td>61</td>\n",
       "      <td>1</td>\n",
       "      <td>8450</td>\n",
       "      <td>1</td>\n",
       "    </tr>\n",
       "    <tr>\n",
       "      <th>1</th>\n",
       "      <td>6</td>\n",
       "      <td>1262</td>\n",
       "      <td>2</td>\n",
       "      <td>460</td>\n",
       "      <td>1262</td>\n",
       "      <td>1262</td>\n",
       "      <td>2</td>\n",
       "      <td>6</td>\n",
       "      <td>1976</td>\n",
       "      <td>1976</td>\n",
       "      <td>0.0</td>\n",
       "      <td>1</td>\n",
       "      <td>978</td>\n",
       "      <td>80.0</td>\n",
       "      <td>298</td>\n",
       "      <td>0</td>\n",
       "      <td>0</td>\n",
       "      <td>0</td>\n",
       "      <td>9600</td>\n",
       "      <td>0</td>\n",
       "    </tr>\n",
       "    <tr>\n",
       "      <th>2</th>\n",
       "      <td>7</td>\n",
       "      <td>1786</td>\n",
       "      <td>2</td>\n",
       "      <td>608</td>\n",
       "      <td>920</td>\n",
       "      <td>920</td>\n",
       "      <td>2</td>\n",
       "      <td>6</td>\n",
       "      <td>2001</td>\n",
       "      <td>2002</td>\n",
       "      <td>162.0</td>\n",
       "      <td>1</td>\n",
       "      <td>486</td>\n",
       "      <td>68.0</td>\n",
       "      <td>0</td>\n",
       "      <td>866</td>\n",
       "      <td>42</td>\n",
       "      <td>1</td>\n",
       "      <td>11250</td>\n",
       "      <td>1</td>\n",
       "    </tr>\n",
       "    <tr>\n",
       "      <th>3</th>\n",
       "      <td>7</td>\n",
       "      <td>1717</td>\n",
       "      <td>3</td>\n",
       "      <td>642</td>\n",
       "      <td>756</td>\n",
       "      <td>961</td>\n",
       "      <td>1</td>\n",
       "      <td>7</td>\n",
       "      <td>1915</td>\n",
       "      <td>1970</td>\n",
       "      <td>0.0</td>\n",
       "      <td>1</td>\n",
       "      <td>216</td>\n",
       "      <td>60.0</td>\n",
       "      <td>0</td>\n",
       "      <td>756</td>\n",
       "      <td>35</td>\n",
       "      <td>0</td>\n",
       "      <td>9550</td>\n",
       "      <td>1</td>\n",
       "    </tr>\n",
       "    <tr>\n",
       "      <th>4</th>\n",
       "      <td>8</td>\n",
       "      <td>2198</td>\n",
       "      <td>3</td>\n",
       "      <td>836</td>\n",
       "      <td>1145</td>\n",
       "      <td>1145</td>\n",
       "      <td>2</td>\n",
       "      <td>9</td>\n",
       "      <td>2000</td>\n",
       "      <td>2000</td>\n",
       "      <td>350.0</td>\n",
       "      <td>1</td>\n",
       "      <td>655</td>\n",
       "      <td>84.0</td>\n",
       "      <td>192</td>\n",
       "      <td>1053</td>\n",
       "      <td>84</td>\n",
       "      <td>1</td>\n",
       "      <td>14260</td>\n",
       "      <td>1</td>\n",
       "    </tr>\n",
       "  </tbody>\n",
       "</table>\n",
       "</div>"
      ],
      "text/plain": [
       "   OverallQual  GrLivArea  GarageCars  GarageArea  TotalBsmtSF  1stFlrSF  \\\n",
       "0            7       1710           2         548          856       856   \n",
       "1            6       1262           2         460         1262      1262   \n",
       "2            7       1786           2         608          920       920   \n",
       "3            7       1717           3         642          756       961   \n",
       "4            8       2198           3         836         1145      1145   \n",
       "\n",
       "   FullBath  TotRmsAbvGrd  YearBuilt  YearRemodAdd  MasVnrArea  Fireplaces  \\\n",
       "0         2             8       2003          2003       196.0           0   \n",
       "1         2             6       1976          1976         0.0           1   \n",
       "2         2             6       2001          2002       162.0           1   \n",
       "3         1             7       1915          1970         0.0           1   \n",
       "4         2             9       2000          2000       350.0           1   \n",
       "\n",
       "   BsmtFinSF1  LotFrontage  WoodDeckSF  2ndFlrSF  OpenPorchSF  HalfBath  \\\n",
       "0         706         65.0           0       854           61         1   \n",
       "1         978         80.0         298         0            0         0   \n",
       "2         486         68.0           0       866           42         1   \n",
       "3         216         60.0           0       756           35         0   \n",
       "4         655         84.0         192      1053           84         1   \n",
       "\n",
       "   LotArea  BsmtFullBath  \n",
       "0     8450             1  \n",
       "1     9600             0  \n",
       "2    11250             1  \n",
       "3     9550             1  \n",
       "4    14260             1  "
      ]
     },
     "execution_count": 46,
     "metadata": {},
     "output_type": "execute_result"
    }
   ],
   "source": [
    "X = pd.get_dummies(train_clean[['OverallQual','GrLivArea','GarageCars','GarageArea','TotalBsmtSF',\n",
    "                                         '1stFlrSF','FullBath','TotRmsAbvGrd','YearBuilt','YearRemodAdd',\n",
    "                                         'MasVnrArea','Fireplaces','BsmtFinSF1','LotFrontage','WoodDeckSF',\n",
    "                                         '2ndFlrSF','OpenPorchSF','HalfBath','LotArea','BsmtFullBath']], drop_first=True)\n",
    "X.head()"
   ]
  },
  {
   "cell_type": "code",
   "execution_count": 47,
   "metadata": {},
   "outputs": [],
   "source": [
    "y = log_y_train"
   ]
  },
  {
   "cell_type": "code",
   "execution_count": 48,
   "metadata": {},
   "outputs": [],
   "source": [
    "from sklearn.model_selection import train_test_split\n",
    "X_train, X_test, y_train, y_test = train_test_split(X, y, test_size = 0.2, random_state = 1)"
   ]
  },
  {
   "cell_type": "markdown",
   "metadata": {},
   "source": [
    "## OLS"
   ]
  },
  {
   "cell_type": "code",
   "execution_count": 49,
   "metadata": {},
   "outputs": [
    {
     "data": {
      "text/plain": [
       "LinearRegression()"
      ]
     },
     "execution_count": 49,
     "metadata": {},
     "output_type": "execute_result"
    }
   ],
   "source": [
    "from sklearn.linear_model import LinearRegression\n",
    "model = LinearRegression()\n",
    "model.fit(X_train,y_train)"
   ]
  },
  {
   "cell_type": "code",
   "execution_count": 50,
   "metadata": {},
   "outputs": [
    {
     "name": "stdout",
     "output_type": "stream",
     "text": [
      "3.2959395573606347\n"
     ]
    }
   ],
   "source": [
    "# print the intercept\n",
    "print(model.intercept_)"
   ]
  },
  {
   "cell_type": "code",
   "execution_count": 51,
   "metadata": {},
   "outputs": [
    {
     "data": {
      "text/plain": [
       "array([12.24844152, 11.94458176, 11.59922304, 11.35778109, 11.79259655,\n",
       "       12.64061815, 12.57213538, 12.01842672, 12.28892459, 12.27944846,\n",
       "       11.99179003, 11.04722649, 12.34213882, 12.85058224, 12.34320291,\n",
       "       11.55556215, 11.58270673, 11.74274585, 12.26498708, 11.84305972,\n",
       "       11.60807418, 11.71005085, 12.40684843, 12.78240403, 11.64247308,\n",
       "       12.11545974, 11.8361068 , 12.13864701, 12.94540349, 11.8361701 ,\n",
       "       11.83222491, 11.76118372, 11.60679872, 11.45391176, 11.86882533,\n",
       "       12.85876033, 11.87290956, 11.27230358, 12.46377086, 11.59882092,\n",
       "       11.90275549, 11.83725666, 11.5578513 , 11.72043204, 12.12922897,\n",
       "       12.08842035, 11.71873737, 12.18357738, 12.45505579, 12.47514124,\n",
       "       11.49256901, 12.51023117, 11.56320142, 12.38069081, 12.20979349,\n",
       "       11.49170252, 11.62505558, 12.1805031 , 11.59718115, 12.08322662,\n",
       "       11.92555241, 12.50256077, 11.43140708, 11.70361685, 11.95841113,\n",
       "       11.75809719, 11.75540838, 12.30810663, 11.97292139, 11.89435485,\n",
       "       12.07925285, 11.54465241, 12.66818317, 11.95773833, 11.95702795,\n",
       "       12.30213139, 12.13836296, 11.77760815, 13.06751047, 12.27251859,\n",
       "       12.00903397, 11.59558322, 11.76065702, 11.90726983, 12.22613134,\n",
       "       11.90538654, 11.92926439, 12.06819032, 12.24323112, 12.07867032,\n",
       "       12.31767395, 12.11348296, 11.48655061, 11.60225346, 11.64793987,\n",
       "       11.85603287, 11.58309436, 11.67205253, 11.96559377, 11.86013662,\n",
       "       12.01058504, 11.81303663, 11.49456551, 11.72832145, 11.76084468,\n",
       "       12.0607306 , 12.1098862 , 12.10150022, 11.7009709 , 12.64363025,\n",
       "       11.88074678, 11.93778266, 11.99470373, 12.16786551, 12.44277059,\n",
       "       12.10450673, 12.37609016, 11.6764083 , 11.95177875, 12.4051961 ,\n",
       "       11.76056541, 12.35694683, 12.64689166, 11.97646726, 12.35098785,\n",
       "       12.10226078, 12.71260968, 11.59918028, 12.26886429, 12.21287616,\n",
       "       12.46064674, 11.37001583, 11.61882349, 11.67460486, 11.6442973 ,\n",
       "       12.14683309, 13.12552132, 12.66275109, 12.31586942, 11.83605496,\n",
       "       11.64522991, 12.48750709, 12.07294557, 12.24578275, 11.41880968,\n",
       "       12.23461806, 11.62816126, 12.16095122, 12.29303015, 11.59822541,\n",
       "       12.16834285, 12.02554907, 11.61998418, 12.1089266 , 12.16851878,\n",
       "       12.64265267, 11.3395798 , 11.7075125 , 11.45898736, 11.7956557 ,\n",
       "       11.11792513, 11.53612275, 12.04159784, 11.87766524, 11.81319328,\n",
       "       11.71300762, 11.98132469, 11.69143758, 11.88530154, 11.61245376,\n",
       "       12.30082187, 11.87727023, 12.28768442, 12.61784617, 12.14482142,\n",
       "       11.7847419 , 12.06963661, 12.12155124, 11.68271568, 11.97897788,\n",
       "       11.73454458, 12.22422884, 11.93330792, 11.83092755, 12.59382793,\n",
       "       11.70466072, 12.61742232, 12.57928151, 11.85595182, 11.70329857,\n",
       "       11.4975446 , 11.74066712, 11.67853613, 12.31739466, 11.72287271,\n",
       "       12.453636  , 12.24922517, 11.90628318, 11.88525409, 11.30179101,\n",
       "       12.25272284, 12.40174134, 12.02666032, 12.05941177, 12.50766682,\n",
       "       11.56062678, 12.15858062, 12.49816235, 12.45804732, 12.61920617,\n",
       "       12.19983985, 11.61952273, 12.01324479, 11.64917681, 12.5924109 ,\n",
       "       12.51996398, 11.64973898, 11.4273751 , 12.17215162, 11.5435589 ,\n",
       "       13.28058898, 11.64622271, 11.97700307, 12.18398976, 11.5940509 ,\n",
       "       11.68968817, 12.24194734, 12.13674017, 11.95268001, 12.18266603,\n",
       "       11.6930929 , 12.12737287, 11.48079424, 11.70245568, 12.65815231,\n",
       "       11.83723031, 12.57396634, 11.57186701, 11.75573677, 12.57487361,\n",
       "       12.68123137, 11.91979784, 11.69270455, 11.87771423, 11.80746229,\n",
       "       11.64080536, 11.78511876, 11.84252251, 11.98641975, 11.9920847 ,\n",
       "       11.6928132 , 11.81381855, 12.1276367 , 12.09330128, 11.64694154,\n",
       "       11.77089488, 12.14449524, 11.41568663, 12.72566351, 11.68976368,\n",
       "       12.3028186 , 11.94282984, 12.24100787, 12.05178971, 11.69217751,\n",
       "       12.22163138, 11.65040968, 12.08590638, 11.92372738, 11.69705585,\n",
       "       12.12239724, 12.11437127, 11.55292107, 11.62005392, 12.11605657,\n",
       "       11.50094154, 11.73827389, 11.65181028, 11.9197221 , 11.84528665,\n",
       "       11.67393379, 11.709573  , 11.6772516 , 11.84784691, 12.37469124,\n",
       "       12.39337612, 11.72121255, 11.33385204, 12.41000986, 11.55605474,\n",
       "       11.45898897, 12.56101253])"
      ]
     },
     "execution_count": 51,
     "metadata": {},
     "output_type": "execute_result"
    }
   ],
   "source": [
    "predictions = model.predict(X_test)\n",
    "predictions"
   ]
  },
  {
   "cell_type": "code",
   "execution_count": 52,
   "metadata": {},
   "outputs": [
    {
     "data": {
      "text/plain": [
       "<AxesSubplot:xlabel='SalePrice'>"
      ]
     },
     "execution_count": 52,
     "metadata": {},
     "output_type": "execute_result"
    },
    {
     "data": {
      "image/png": "[encoded data removed]",
      "text/plain": [
       "<Figure size 432x288 with 1 Axes>"
      ]
     },
     "metadata": {
      "needs_background": "light"
     },
     "output_type": "display_data"
    }
   ],
   "source": [
    "sns.regplot(y_test,predictions)"
   ]
  },
  {
   "cell_type": "code",
   "execution_count": 53,
   "metadata": {},
   "outputs": [],
   "source": [
    "import statsmodels.api as sm"
   ]
  },
  {
   "cell_type": "code",
   "execution_count": 54,
   "metadata": {},
   "outputs": [
    {
     "name": "stdout",
     "output_type": "stream",
     "text": [
      "                            OLS Regression Results                            \n",
      "==============================================================================\n",
      "Dep. Variable:              SalePrice   R-squared:                       0.844\n",
      "Model:                            OLS   Adj. R-squared:                  0.842\n",
      "Method:                 Least Squares   F-statistic:                     388.9\n",
      "Date:                Mon, 07 Feb 2022   Prob (F-statistic):               0.00\n",
      "Time:                        14:58:18   Log-Likelihood:                 624.27\n",
      "No. Observations:                1460   AIC:                            -1207.\n",
      "Df Residuals:                    1439   BIC:                            -1096.\n",
      "Df Model:                          20                                         \n",
      "Covariance Type:            nonrobust                                         \n",
      "================================================================================\n",
      "                   coef    std err          t      P>|t|      [0.025      0.975]\n",
      "--------------------------------------------------------------------------------\n",
      "const            3.2772      0.579      5.665      0.000       2.142       4.412\n",
      "OverallQual      0.0948      0.005     18.429      0.000       0.085       0.105\n",
      "GrLivArea     7.051e-05    8.9e-05      0.793      0.428      -0.000       0.000\n",
      "GarageCars       0.0619      0.013      4.769      0.000       0.036       0.087\n",
      "GarageArea    6.112e-05   4.42e-05      1.381      0.167   -2.57e-05       0.000\n",
      "TotalBsmtSF   5.835e-05   1.88e-05      3.102      0.002    2.15e-05    9.53e-05\n",
      "1stFlrSF      9.305e-05    9.1e-05      1.023      0.307   -8.54e-05       0.000\n",
      "FullBath         0.0192      0.013      1.533      0.126      -0.005       0.044\n",
      "TotRmsAbvGrd     0.0141      0.005      2.949      0.003       0.005       0.023\n",
      "YearBuilt        0.0014      0.000      5.957      0.000       0.001       0.002\n",
      "YearRemodAdd     0.0024      0.000      8.775      0.000       0.002       0.003\n",
      "MasVnrArea   -1.619e-06    2.7e-05     -0.060      0.952   -5.46e-05    5.14e-05\n",
      "Fireplaces       0.0586      0.008      7.450      0.000       0.043       0.074\n",
      "BsmtFinSF1    3.656e-05   1.39e-05      2.634      0.009    9.33e-06    6.38e-05\n",
      "LotFrontage      0.0003      0.000      1.178      0.239      -0.000       0.001\n",
      "WoodDeckSF       0.0001   3.57e-05      3.732      0.000    6.33e-05       0.000\n",
      "2ndFlrSF      6.127e-05   9.01e-05      0.680      0.497      -0.000       0.000\n",
      "OpenPorchSF  -4.055e-06   6.87e-05     -0.059      0.953      -0.000       0.000\n",
      "HalfBath         0.0265      0.012      2.186      0.029       0.003       0.050\n",
      "LotArea        2.16e-06   4.64e-07      4.659      0.000    1.25e-06    3.07e-06\n",
      "BsmtFullBath     0.0455      0.011      4.183      0.000       0.024       0.067\n",
      "==============================================================================\n",
      "Omnibus:                     1126.994   Durbin-Watson:                   1.987\n",
      "Prob(Omnibus):                  0.000   Jarque-Bera (JB):            69453.373\n",
      "Skew:                          -3.042   Prob(JB):                         0.00\n",
      "Kurtosis:                      36.237   Cond. No.                     2.05e+06\n",
      "==============================================================================\n",
      "\n",
      "Notes:\n",
      "[1] Standard Errors assume that the covariance matrix of the errors is correctly specified.\n",
      "[2] The condition number is large, 2.05e+06. This might indicate that there are\n",
      "strong multicollinearity or other numerical problems.\n"
     ]
    }
   ],
   "source": [
    "# with statsmodels\n",
    "X = sm.add_constant(X) # adding a constant\n",
    " \n",
    "model = sm.OLS(y, X).fit()\n",
    "predictions = model.predict(X) \n",
    " \n",
    "print_model = model.summary()\n",
    "print(print_model)"
   ]
  },
  {
   "cell_type": "code",
   "execution_count": 60,
   "metadata": {},
   "outputs": [],
   "source": [
    "from sklearn.preprocessing import StandardScaler\n",
    "\n",
    "scaler = StandardScaler()\n",
    "scaler.fit(X_train)\n",
    "\n",
    "X_train_scaled = scaler.transform(X_train)"
   ]
  },
  {
   "cell_type": "markdown",
   "metadata": {},
   "source": [
    "## Ridge"
   ]
  },
  {
   "cell_type": "code",
   "execution_count": 61,
   "metadata": {},
   "outputs": [
    {
     "data": {
      "text/plain": [
       "RidgeCV(alphas=array([3.05175781e-05, 3.50554918e-05, 4.02681858e-05, 4.62559987e-05,\n",
       "       5.31341897e-05, 6.10351562e-05, 7.01109836e-05, 8.05363715e-05,\n",
       "       9.25119975e-05, 1.06268379e-04, 1.22070312e-04, 1.40221967e-04,\n",
       "       1.61072743e-04, 1.85023995e-04, 2.12536759e-04, 2.44140625e-04,\n",
       "       2.80443934e-04, 3.22145486e-04, 3.70047990e-04, 4.25073517e-04,\n",
       "       4.88281250e-04, 5.60887869e-0...\n",
       "       1.55209376e+03, 1.78288755e+03, 2.04800000e+03, 2.35253423e+03,\n",
       "       2.70235220e+03, 3.10418753e+03, 3.56577511e+03, 4.09600000e+03,\n",
       "       4.70506846e+03, 5.40470440e+03, 6.20837506e+03, 7.13155021e+03,\n",
       "       8.19200000e+03, 9.41013692e+03, 1.08094088e+04, 1.24167501e+04,\n",
       "       1.42631004e+04, 1.63840000e+04, 1.88202738e+04, 2.16188176e+04,\n",
       "       2.48335002e+04, 2.85262009e+04, 3.27680000e+04]),\n",
       "        cv=5)"
      ]
     },
     "execution_count": 61,
     "metadata": {},
     "output_type": "execute_result"
    }
   ],
   "source": [
    "from sklearn.linear_model import RidgeCV\n",
    "warnings.filterwarnings(\"ignore\", category=DeprecationWarning) # This line of code ignores a deprecation warning\n",
    "\n",
    "alphas = list(np.logspace(-15, 15, 151, base=2))\n",
    "\n",
    "ridge = RidgeCV(alphas=alphas, cv=5)\n",
    "ridge.fit(X_train_scaled, y_train)"
   ]
  },
  {
   "cell_type": "markdown",
   "metadata": {},
   "source": [
    "## Lasso"
   ]
  },
  {
   "cell_type": "code",
   "execution_count": 68,
   "metadata": {},
   "outputs": [
    {
     "data": {
      "text/plain": [
       "LassoCV(cv=5)"
      ]
     },
     "execution_count": 68,
     "metadata": {},
     "output_type": "execute_result"
    }
   ],
   "source": [
    "from sklearn.linear_model import LassoCV\n",
    "\n",
    "lasso = LassoCV(cv=5)\n",
    "lasso.fit(X_train_scaled, y_train)"
   ]
  },
  {
   "cell_type": "markdown",
   "metadata": {},
   "source": [
    "## Elastic Net"
   ]
  },
  {
   "cell_type": "code",
   "execution_count": 63,
   "metadata": {},
   "outputs": [
    {
     "data": {
      "text/plain": [
       "ElasticNetCV(cv=5,\n",
       "             l1_ratio=[0.1, 0.2, 0.30000000000000004, 0.4, 0.5,\n",
       "                       0.6000000000000001, 0.7000000000000001, 0.8, 0.9, 0.01,\n",
       "                       0.99])"
      ]
     },
     "execution_count": 63,
     "metadata": {},
     "output_type": "execute_result"
    }
   ],
   "source": [
    "from sklearn.linear_model import ElasticNetCV\n",
    "\n",
    "ratio = [X*0.1 for X in range(1, 10)]\n",
    "ratio.append(0.01)\n",
    "ratio.append(0.99)\n",
    "enet = ElasticNetCV(l1_ratio=ratio, cv=5)\n",
    "enet.fit(X_train, y_train)"
   ]
  },
  {
   "cell_type": "markdown",
   "metadata": {},
   "source": [
    "## Results"
   ]
  },
  {
   "cell_type": "code",
   "execution_count": 64,
   "metadata": {},
   "outputs": [],
   "source": [
    "from sklearn.model_selection import cross_val_predict\n",
    "from sklearn.metrics import mean_squared_error, r2_score\n",
    "\n",
    "models = ['ridge', 'lasso', 'enet']\n",
    "rmse_scores = []\n",
    "R2_scores = []\n",
    "for m in models:\n",
    "    predicted = cross_val_predict(eval(m), X_train, y_train, cv=5)\n",
    "    rmse_score = np.sqrt(mean_squared_error(np.exp(y_train), np.exp(predicted)))\n",
    "    R2_score = r2_score(np.exp(y_train), np.exp(predicted))\n",
    "    rmse_scores.append(rmse_score)\n",
    "    R2_scores.append(R2_score)\n",
    "socres_df = pd.DataFrame(np.c_[rmse_scores, R2_scores], index=models, columns=['RMSE', 'R2'])"
   ]
  },
  {
   "cell_type": "code",
   "execution_count": 65,
   "metadata": {},
   "outputs": [
    {
     "data": {
      "text/html": [
       "<div>\n",
       "<style scoped>\n",
       "    .dataframe tbody tr th:only-of-type {\n",
       "        vertical-align: middle;\n",
       "    }\n",
       "\n",
       "    .dataframe tbody tr th {\n",
       "        vertical-align: top;\n",
       "    }\n",
       "\n",
       "    .dataframe thead th {\n",
       "        text-align: right;\n",
       "    }\n",
       "</style>\n",
       "<table border=\"1\" class=\"dataframe\">\n",
       "  <thead>\n",
       "    <tr style=\"text-align: right;\">\n",
       "      <th></th>\n",
       "      <th>RMSE</th>\n",
       "      <th>R2</th>\n",
       "    </tr>\n",
       "  </thead>\n",
       "  <tbody>\n",
       "    <tr>\n",
       "      <th>ridge</th>\n",
       "      <td>82540.459481</td>\n",
       "      <td>-0.118300</td>\n",
       "    </tr>\n",
       "    <tr>\n",
       "      <th>lasso</th>\n",
       "      <td>146635.701224</td>\n",
       "      <td>-2.529426</td>\n",
       "    </tr>\n",
       "    <tr>\n",
       "      <th>enet</th>\n",
       "      <td>146636.106796</td>\n",
       "      <td>-2.529446</td>\n",
       "    </tr>\n",
       "  </tbody>\n",
       "</table>\n",
       "</div>"
      ],
      "text/plain": [
       "                RMSE        R2\n",
       "ridge   82540.459481 -0.118300\n",
       "lasso  146635.701224 -2.529426\n",
       "enet   146636.106796 -2.529446"
      ]
     },
     "execution_count": 65,
     "metadata": {},
     "output_type": "execute_result"
    }
   ],
   "source": [
    "socres_df"
   ]
  },
  {
   "cell_type": "markdown",
   "metadata": {},
   "source": [
    "## XGBoost"
   ]
  },
  {
   "cell_type": "code",
   "execution_count": 6,
   "metadata": {},
   "outputs": [
    {
     "name": "stdout",
     "output_type": "stream",
     "text": [
      "Requirement already satisfied: xgboost in /opt/anaconda3/lib/python3.8/site-packages (1.5.2)\n",
      "Requirement already satisfied: scipy in /opt/anaconda3/lib/python3.8/site-packages (from xgboost) (1.5.2)\n",
      "Requirement already satisfied: numpy in /opt/anaconda3/lib/python3.8/site-packages (from xgboost) (1.19.2)\n",
      "Note: you may need to restart the kernel to use updated packages.\n"
     ]
    }
   ],
   "source": [
    "pip install xgboost"
   ]
  },
  {
   "cell_type": "code",
   "execution_count": 1,
   "metadata": {},
   "outputs": [],
   "source": [
    "import xgboost as xgb"
   ]
  },
  {
   "cell_type": "code",
   "execution_count": 56,
   "metadata": {},
   "outputs": [
    {
     "name": "stdout",
     "output_type": "stream",
     "text": [
      "Best parameters found by randomised search: {'subsample': 0.6, 'n_estimators': 1500, 'max_depth': 3, 'learning_rate': 0.01} \n",
      "\n"
     ]
    }
   ],
   "source": [
    "xg_model = xgb.XGBRegressor(objective = 'reg:squarederror', reg_lambda = 0)\n",
    "\n",
    "tuning_parameters = {\n",
    "    'learning_rate':[0.01, 0.05, 0.1],\n",
    "    'n_estimators':[1000, 1500, 2000],\n",
    "    'max_depth':[2,3,4],\n",
    "    'subsample':[0.6, 0.8, 1.0]\n",
    "}\n",
    "\n",
    "from sklearn.model_selection import RandomizedSearchCV\n",
    "\n",
    "xbst = RandomizedSearchCV(xg_model, tuning_parameters, n_iter = 32, cv = 5, random_state = 87, n_jobs = -1)\n",
    "xbst.fit(X_train, y_train)\n",
    "\n",
    "xg = xbst.best_estimator_\n",
    "\n",
    "print('Best parameters found by randomised search:', xbst.best_params_, '\\n')"
   ]
  },
  {
   "cell_type": "code",
   "execution_count": 59,
   "metadata": {},
   "outputs": [
    {
     "data": {
      "image/png": "[encoded data removed]",
      "text/plain": [
       "<Figure size 648x432 with 1 Axes>"
      ]
     },
     "metadata": {
      "needs_background": "light"
     },
     "output_type": "display_data"
    }
   ],
   "source": [
    "from statlearning import plot_feature_importance\n",
    "plot_feature_importance(xg, X_train.columns)\n",
    "plt.show()"
   ]
  },
  {
   "cell_type": "code",
   "execution_count": null,
   "metadata": {},
   "outputs": [],
   "source": []
  }
 ],
 "metadata": {
  "kernelspec": {
   "display_name": "Python 3",
   "language": "python",
   "name": "python3"
  },
  "language_info": {
   "codemirror_mode": {
    "name": "ipython",
    "version": 3
   },
   "file_extension": ".py",
   "mimetype": "text/x-python",
   "name": "python",
   "nbconvert_exporter": "python",
   "pygments_lexer": "ipython3",
   "version": "3.8.5"
  }
 },
 "nbformat": 4,
 "nbformat_minor": 4
}
